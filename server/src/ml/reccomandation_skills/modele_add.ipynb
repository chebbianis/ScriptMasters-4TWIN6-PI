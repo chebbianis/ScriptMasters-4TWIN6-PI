{
  "nbformat": 4,
  "nbformat_minor": 0,
  "metadata": {
    "colab": {
      "provenance": []
    },
    "kernelspec": {
      "name": "python3",
      "display_name": "Python 3"
    },
    "language_info": {
      "name": "python"
    }
  },
  "cells": [
    {
      "cell_type": "code",
      "execution_count": 1,
      "metadata": {
        "id": "g6WzaJzoQe_m"
      },
      "outputs": [],
      "source": [
        "import pandas as pd\n",
        "import numpy as np\n",
        "from sklearn.model_selection import train_test_split\n",
        "from sklearn.ensemble import RandomForestRegressor\n",
        "from sklearn.metrics import mean_absolute_error, mean_squared_error, r2_score"
      ]
    },
    {
      "cell_type": "code",
      "source": [
        "# Chargement des données\n",
        "tasks = pd.read_csv('Task_catagories.csv')\n",
        "engineers = pd.read_csv('engineers_skills.csv')"
      ],
      "metadata": {
        "id": "FRWjCD7mRk9x"
      },
      "execution_count": 32,
      "outputs": []
    },
    {
      "cell_type": "code",
      "source": [
        "# Prétraitement des compétences\n",
        "tasks['Skill'] = tasks['Skill'].str.lower().str.strip()\n",
        "engineers['Skills'] = engineers['Skills'].str.lower().str.split(',').apply(lambda x: {s.strip() for s in x})\n"
      ],
      "metadata": {
        "id": "Jp4ob5fIRoE9"
      },
      "execution_count": 33,
      "outputs": []
    },
    {
      "cell_type": "code",
      "source": [
        "# Configuration du modèle avec normalisation explicite\n",
        "model = RandomForestRegressor(\n",
        "    n_estimators=100,\n",
        "    max_depth=5,\n",
        "    min_samples_split=10,\n",
        "    max_features=0.8,\n",
        "    random_state=42\n",
        ")\n"
      ],
      "metadata": {
        "id": "8VufEonnRoHC"
      },
      "execution_count": 40,
      "outputs": []
    },
    {
      "cell_type": "code",
      "source": [
        "# Entraînement avec données préparées\n",
        "feature_names = ['Skill Match', 'Years Experience', 'Current Workload', 'Performance Rating']\n",
        "\n",
        "def train_model():\n",
        "    # Création de données d'entraînement réalistes\n",
        "    synthetic_data = []\n",
        "    for _ in range(1000):\n",
        "        skill_match = np.random.rand()\n",
        "        experience = np.random.randint(0, 20)\n",
        "        workload = np.random.randint(0, 40)\n",
        "        rating = np.random.uniform(2.5, 5.0)\n",
        "\n",
        "        target = (\n",
        "            0.6 * skill_match +\n",
        "            0.3 * (experience / 20) +\n",
        "            0.1 * (rating / 5.0) +\n",
        "            np.random.normal(0, 0.03)\n",
        "        )\n",
        "\n",
        "        synthetic_data.append([\n",
        "            skill_match,\n",
        "            experience,\n",
        "            workload,\n",
        "            rating,\n",
        "            np.clip(target, 0, 1)\n",
        "        ])\n",
        "\n",
        "    df = pd.DataFrame(synthetic_data, columns=feature_names + ['Target'])\n",
        "    model.fit(df[feature_names], df['Target'])\n",
        "\n",
        "train_model()\n"
      ],
      "metadata": {
        "id": "UNN84WleRoWL"
      },
      "execution_count": 42,
      "outputs": []
    },
    {
      "cell_type": "code",
      "source": [
        "def recommend_engineers(required_skills):\n",
        "    required_skills = {s.strip().lower() for s in required_skills}\n",
        "\n",
        "    results = []\n",
        "    for _, eng in engineers.iterrows():\n",
        "        eng_skills = eng['Skills']\n",
        "        match = len(required_skills & eng_skills) / len(required_skills) if required_skills else 0\n",
        "\n",
        "        # Création du DataFrame avec noms de colonnes explicites\n",
        "        input_data = pd.DataFrame([[\n",
        "            match,\n",
        "            eng['Years Experience'],\n",
        "            eng['Current Workload'],\n",
        "            eng['Performance Rating']\n",
        "        ]], columns=feature_names)\n",
        "\n",
        "        score = model.predict(input_data)[0]\n",
        "        results.append((\n",
        "            eng['Engineer'],\n",
        "            np.clip(score, 0, 1),  # Assurance d'un score entre 0 et 1\n",
        "            eng['Years Experience'],\n",
        "            eng['Performance Rating']\n",
        "        ))\n",
        "\n",
        "    # Tri multicritère amélioré\n",
        "    return sorted(results,\n",
        "                key=lambda x: (-x[1], -x[2], -x[3]))[:5]\n"
      ],
      "metadata": {
        "id": "q4Ohb3KgRy-_"
      },
      "execution_count": 48,
      "outputs": []
    },
    {
      "cell_type": "code",
      "source": [
        "# Interface utilisateur avec gestion d'erreurs\n",
        "try:\n",
        "    task_desc = input(\"Description de la tâche : \")\n",
        "    skills = input(\"Compétences requises (séparées par virgules) : \").split(',')\n",
        "\n",
        "    recommendations = recommend_engineers(skills)\n",
        "\n",
        "    print(f\"\\nRecommandations pour '{task_desc}':\")\n",
        "    for i, (name, score, exp, rating) in enumerate(recommendations, 1):\n",
        "        print(f\"{i}. {name} (Score: {score:.2f}, Exp: {exp}ans\")\n",
        "\n",
        "except Exception as e:\n",
        "    print(f\"Erreur : {str(e)}\")"
      ],
      "metadata": {
        "colab": {
          "base_uri": "https://localhost:8080/"
        },
        "id": "by6yL5r7IbJq",
        "outputId": "599c2f78-3e5b-4b2a-f2c8-17bce2df4b98"
      },
      "execution_count": 55,
      "outputs": [
        {
          "output_type": "stream",
          "name": "stdout",
          "text": [
            "Description de la tâche : Optimize server performance\n",
            "Compétences requises (séparées par virgules) : typescript\n",
            "\n",
            "Recommandations pour 'Optimize server performance':\n",
            "1. Soumaya Ammar (Score: 0.86, Exp: 14ans\n",
            "2. Nadia Ben Ali (Score: 0.85, Exp: 13ans\n",
            "3. Ahmed Zarrouk (Score: 0.84, Exp: 13ans\n",
            "4. Salma Chaabane (Score: 0.83, Exp: 12ans\n",
            "5. Fatma Saïdi (Score: 0.80, Exp: 11ans\n"
          ]
        }
      ]
    }
  ]
}